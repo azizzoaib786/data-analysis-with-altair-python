{
 "cells": [
  {
   "cell_type": "markdown",
   "metadata": {},
   "source": [
    "### Import Packages"
   ]
  },
  {
   "cell_type": "code",
   "execution_count": null,
   "metadata": {},
   "outputs": [],
   "source": [
    "import numpy as np\n",
    "import altair as alt\n",
    "import pandas as pd\n",
    "import warnings\n",
    "# import vegafusion\n",
    "\n",
    "warnings.filterwarnings('ignore')\n",
    "\n",
    "# !pip3 install numpy\n",
    "# !pip3 install -U numexpr bottleneck\n",
    "# !pip3 install \"numpy<2.0\" \n",
    "# !pip3 install numpy==1.26.4\n",
    "# !pip3 uninstall numpy -y\n",
    "\n",
    "# !pip3 show numpy\n"
   ]
  },
  {
   "cell_type": "markdown",
   "metadata": {},
   "source": [
    "### EDA Exploratory Data Analysis"
   ]
  },
  {
   "cell_type": "code",
   "execution_count": null,
   "metadata": {},
   "outputs": [],
   "source": [
    "df = pd.read_csv(\"Boonsong_Lekagul_waterways_readings.csv\")"
   ]
  },
  {
   "cell_type": "code",
   "execution_count": null,
   "metadata": {},
   "outputs": [],
   "source": [
    "df.head()"
   ]
  },
  {
   "cell_type": "code",
   "execution_count": null,
   "metadata": {},
   "outputs": [],
   "source": [
    "df.isna().sum()"
   ]
  },
  {
   "cell_type": "code",
   "execution_count": null,
   "metadata": {},
   "outputs": [],
   "source": [
    "df.shape"
   ]
  },
  {
   "cell_type": "code",
   "execution_count": null,
   "metadata": {},
   "outputs": [],
   "source": [
    "df[\"location\"].unique()"
   ]
  },
  {
   "cell_type": "code",
   "execution_count": null,
   "metadata": {},
   "outputs": [],
   "source": [
    "df[\"measure\"].unique()"
   ]
  },
  {
   "cell_type": "code",
   "execution_count": null,
   "metadata": {},
   "outputs": [],
   "source": [
    "# Find location with highest records\n",
    "df['location'].value_counts()"
   ]
  },
  {
   "cell_type": "code",
   "execution_count": null,
   "metadata": {},
   "outputs": [],
   "source": [
    "# Find location with most repeated measurements\n",
    "df.groupby('location')['measure'].nunique().sort_values(ascending=False)\n"
   ]
  },
  {
   "cell_type": "markdown",
   "metadata": {},
   "source": [
    "#### Based on the above dataset, below are some findings.\n",
    "\n",
    "1. No missing values.\n",
    "2. There are total of 136824 records in dataset.\n",
    "3. The most repeated location is Boonsri with 31314 records.\n",
    "4. Busarakhan is the location with most variety of measurements"
   ]
  },
  {
   "cell_type": "markdown",
   "metadata": {},
   "source": [
    "### Feature Engineering\n",
    "\n",
    "#### Convert 'sample date' to datetime in order to extract additional time based features which will help us to achieve below findings.\n",
    "\n",
    "1. Does water quality vary by year or month?\n",
    "2. Are there any seasonal patterns in measurements?\n",
    "3. Is there a difference in readings between weekdays and weekends?\n",
    "\n",
    "#### Lets start by creating some basic visuals and then we will progress as we go on."
   ]
  },
  {
   "cell_type": "code",
   "execution_count": null,
   "metadata": {},
   "outputs": [],
   "source": [
    "# Convert 'sample date' to datetime and create new columns in one step\n",
    "df['sample date'] = pd.to_datetime(df['sample date'])\n",
    "df['year'] = df['sample date'].dt.year\n",
    "df['month'] = df['sample date'].dt.month\n",
    "df['year_month'] = df['sample date'].dt.to_period('M').astype(str)\n",
    "df['week_day'] = df['sample date'].dt.dayofweek\n",
    "df.info()\n"
   ]
  },
  {
   "cell_type": "markdown",
   "metadata": {},
   "source": [
    "### Visuals"
   ]
  },
  {
   "cell_type": "code",
   "execution_count": null,
   "metadata": {},
   "outputs": [],
   "source": [
    "# !pip3 install \"vegafusion==1.5.0\" \"vegafusion-python-embed==1.5.0\"\n",
    "# !pip3 install \"vl-convert-python>=1.6.0\"\n",
    "# !pip3 install \"pyarrow==10.0.1\"\n",
    "alt.data_transformers.enable('default')\n",
    "alt.data_transformers.disable_max_rows()\n",
    "\n",
    "# !pip3 show vegafusion\n",
    "# !pip3 show vegafusion-python-embed\n",
    "# !pip3 show pyarrow\n",
    "# import vegafusion\n",
    "\n",
    "# Basic bar chart: Count of records by location\n",
    "bar_chart = alt.Chart(df).mark_bar().encode(x=alt.X('location:N', title='Location'), y=alt.Y('count():Q', title='Count of Records'), color=alt.Color('count():Q', scale=alt.Scale(scheme='blues'), title='Count of Records'), tooltip=[alt.Tooltip('location:N', title='Location'), alt.Tooltip('count():Q', title='Count of Records')]).properties(title=\"Count of Records by Location with Color Intensity\", width=700, height=400)\n",
    "bar_chart\n",
    "\n"
   ]
  },
  {
   "cell_type": "markdown",
   "metadata": {},
   "source": [
    "##### Key Insights\n",
    "\n",
    "Bar chart\n",
    "\n",
    "Boonsri & Chai are the 2 topmost locations with highest number of records, followed by Kannika and Sakda. Tansanee, Decha & Achara are the locations with least records."
   ]
  },
  {
   "cell_type": "code",
   "execution_count": null,
   "metadata": {},
   "outputs": [],
   "source": [
    "# Scatter plot: Value vs. Year colored by measure\n",
    "scatter_chart_year = alt.Chart(df).mark_circle(size=60).encode(x='year:O', y='value:Q', color='measure:N', tooltip=['location', 'value', 'measure', 'year']).properties(title=\"Scatter Plot: Value vs. Year\", width=700, height=400)\n",
    "scatter_chart_year"
   ]
  },
  {
   "cell_type": "code",
   "execution_count": null,
   "metadata": {},
   "outputs": [],
   "source": [
    "# Scatter plot: Value vs. Month colored by measure\n",
    "scatter_chart_month = alt.Chart(df).mark_circle(size=60).encode(x='month:O', y='value:Q', color='measure:N', tooltip=['location', 'value', 'measure', 'year']).properties(title=\"Scatter Plot: Value vs. Month\", width=700, height=400)\n",
    "scatter_chart_month"
   ]
  },
  {
   "cell_type": "markdown",
   "metadata": {},
   "source": [
    "##### Key Insights\n",
    "\n",
    "Scatter charts\n",
    "\n",
    "In the year-based scatter plot, there are noticeable spikes in 2003, particularly for the measure \"Iron.\" Similarly, in the month-based scatter plot, significant spikes are observed in August, primarily for the measure \"Iron,\" followed by \"Total Coliforms.\""
   ]
  },
  {
   "cell_type": "code",
   "execution_count": null,
   "metadata": {},
   "outputs": [],
   "source": [
    "# Heatmap: Average value by location and month\n",
    "heatmap = alt.Chart(df).mark_rect().encode(x='month:O', y='location:N', color='mean(value):Q', tooltip=['month', 'location', 'mean(value)']).properties(title=\"Heatmap: Average Value by Location and Month\", width=700, height=400)\n",
    "heatmap\n"
   ]
  },
  {
   "cell_type": "code",
   "execution_count": null,
   "metadata": {},
   "outputs": [],
   "source": [
    "# Heatmap: Count of records by location and year\n",
    "heatmap = alt.Chart(df).mark_rect().encode(x=alt.X('year:O', title='Year'), y=alt.Y('location:N', title='Location'), color=alt.Color('count():Q', scale=alt.Scale(scheme='viridis'), title='Count of Records'), tooltip=[alt.Tooltip('year:O', title='Year'), alt.Tooltip('location:N', title='Location'), alt.Tooltip('count():Q', title='Count of Records')]).properties(title=\"Heatmap: Count of Records by Location and Year\", width=700, height=400)\n",
    "heatmap\n"
   ]
  },
  {
   "cell_type": "markdown",
   "metadata": {},
   "source": [
    "##### Key Insights\n",
    "\n",
    "Month-Based\n",
    "The location Tansansee consistently exhibits higher values of chemical components across all 12 months of the year. Kohsoom displays high intensities of chemical components specifically in August, while Achara shows notable intensities in January.\n",
    "\n",
    "Year-Based\n",
    "Data is missing for three locations between 1998 and 2008. From 2009 to 2016, chemical components are consistently higher across these locations. Additionally, Somchair, Kohsoom, and Busarakhan demonstrate similar trends in chemical components throughout the entire year range, spanning from 1998 to 2016."
   ]
  },
  {
   "cell_type": "code",
   "execution_count": null,
   "metadata": {},
   "outputs": [],
   "source": [
    "# Bar chart: Dropdown by location\n",
    "selector = alt.selection_point(fields=['location'], bind=alt.binding_select(options=df['location'].unique().tolist()), name=\"Select\")\n",
    "\n",
    "bar_chart_location_year = alt.Chart(df).mark_bar().encode(x='year:O', y='mean(value):Q', color='location:N', tooltip=['year', 'mean(value):Q', 'location']).add_params(selector).transform_filter(selector).properties(title=\"Bar Chart: Average Values by Year and Location\", width=800, height=400)\n",
    "bar_chart_location_year\n"
   ]
  },
  {
   "cell_type": "markdown",
   "metadata": {},
   "source": [
    "##### Key Insights\n",
    "\n",
    "This visual enables us to explore the values across different years dynamically, based on the selected location from the dropdown menu.\n",
    "\n",
    "•\tBoonsri: Records show an upward trend as the years progress.\n",
    "•\tKannika: Displays a notable spike in 2003.\n",
    "•\tChai, Kohsoom, Somchair, Sakda, Busarakhan: All exhibit a similar spike in 2003.\n",
    "•\tTansanee: Data remains almost consistent across the years.\n",
    "•\tAchara, Decha: Both show a significant spike in 2009."
   ]
  },
  {
   "cell_type": "code",
   "execution_count": null,
   "metadata": {},
   "outputs": [],
   "source": [
    "# Bar chart: Dropdown by location\n",
    "selector = alt.selection_point(fields=['location'], bind=alt.binding_select(options=df['location'].unique().tolist()), name=\"Select\")\n",
    "\n",
    "bar_chart_location_measure = alt.Chart(df).mark_bar().encode(x='measure:N', y='mean(value):Q', color='measure:N', tooltip=['measure', 'mean(value):Q', 'location']).add_params(selector).transform_filter(selector).properties(title=\"Bar Chart: Average Values by Measure and Location\", width=800, height=400)\n",
    "bar_chart_location_measure\n"
   ]
  },
  {
   "cell_type": "markdown",
   "metadata": {},
   "source": [
    "##### Key Insights\n",
    "\n",
    "Kohsoom, Achara, Decha: Total coliforms have the highest values.\n",
    "Other Locations (Boonsri, Busarakhan, Sakda, Somchair, Chai, Kannika): Total dissolved salts have the highest values, followed by bicarbonates. Aluminium is also observed to have relatively high values in these locations.\n",
    "\n"
   ]
  },
  {
   "cell_type": "code",
   "execution_count": null,
   "metadata": {},
   "outputs": [],
   "source": [
    "# Define the selection for location (radio buttons)\n",
    "location_selector = alt.selection_point(fields=['location'], bind=alt.binding_radio(options=df['location'].unique().tolist(), name=\"Location: \"),)\n",
    "\n",
    "measurement_selector = alt.selection_point(fields=['measure'], bind=alt.binding_select(options=['Total dissolved salts', 'Bicarbonates', 'Oxygen saturation', 'Total hardness', 'Zinc', 'Calcium', 'Iron'], name=\"Measurement: \"), name=\"Select Measurement\")\n",
    "\n",
    "time_series_chart = alt.Chart(df).mark_line().encode(x=alt.X('year:O', title='Year'), y=alt.Y('value:Q', title='Measurement Value'), color=alt.Color('measure:N', title='Measurement'), tooltip=['year:O', 'value:Q', 'measure:N', 'location:N']).add_params(location_selector, measurement_selector).transform_filter(location_selector & measurement_selector).properties(title=\"Year Based Time Series Chart of Selected Measurements by Location\", width=800, height=400)\n",
    "time_series_chart"
   ]
  },
  {
   "cell_type": "markdown",
   "metadata": {},
   "source": [
    "##### Key Insights\n",
    "\n",
    "Based on the selected measures ('Total dissolved salts,' 'Bicarbonates,' 'Oxygen saturation,' 'Total hardness,' 'Zinc,' 'Calcium,' and 'Iron') and the use of a dropdown for measures and radio buttons for locations, we can uncover some interesting insights over the years:\n",
    "\n",
    "Dynamic Exploration: The dropdown allows users to switch between measures, highlighting variations and trends for each chemical component.\n",
    "\n",
    "Location-Based Insights: The radio buttons provide a focused view of how these measures behave across different locations, revealing location-specific trends and patterns.\n",
    "\n",
    "Temporal Trends: The visual facilitates an understanding of how the selected measures evolve over the years, helping identify spikes, consistent values, or unique behaviors for specific measures and locations.\n",
    "\n"
   ]
  },
  {
   "cell_type": "code",
   "execution_count": null,
   "metadata": {},
   "outputs": [],
   "source": [
    "# Identify the top observed chemical contaminations (top 20 by frequency)\n",
    "top_chemicals = df['measure'].value_counts().head(20).index.tolist()\n",
    "\n",
    "top_df = df[df['measure'].isin(top_chemicals)]\n",
    "\n",
    "line_chart_year = alt.Chart(top_df).mark_line().encode(x=alt.X('year:O', title='Year'), y=alt.Y('count():Q', title='Frequency'), color=alt.Color('measure:N', title='Chemical'), tooltip=['year:O', 'measure:N', 'count():Q']).properties(title='Yearly Frequency of Observations for Top Chemicals', width=800, height=400)\n",
    "line_chart_year\n"
   ]
  },
  {
   "cell_type": "markdown",
   "metadata": {},
   "source": [
    "##### Key Insights\n",
    "\n",
    "The line chart illustrates the trends over time for the top 20 chemical components. Notably, after 2004, there is a significant divergence among the lines, indicating greater variability in the chemical components. Additionally, a sharp rise in water temperature is observed in 2015, highlighting a potential anomaly or critical event during that year."
   ]
  },
  {
   "cell_type": "code",
   "execution_count": null,
   "metadata": {},
   "outputs": [],
   "source": [
    "# Group and aggregate data to get the sum of values by location and measure\n",
    "aggregated_data = df.groupby(['location', 'measure']).agg({'value': 'sum'}).reset_index()\n",
    "\n",
    "stacked_bar = alt.Chart(aggregated_data).mark_bar().encode(x=alt.X('sum(value):Q', title='Sum of Value'), y=alt.Y('location:N', title='Location', sort='-x'), color=alt.Color('measure:N', title='Measure', scale=alt.Scale(scheme='category10')), tooltip=['location:N', 'measure:N', 'sum(value):Q']).properties(title=\"Top Contaminations – Waterways\", width=800, height=400)\n",
    "stacked_bar\n"
   ]
  },
  {
   "cell_type": "markdown",
   "metadata": {},
   "source": [
    "##### Key Insights\n",
    "\n",
    "The stacked bar chart visualizes the top contaminated waterways, with chemical components represented by different colors. From the chart, it is evident that Chai is the most contaminated waterway, followed by Boonsri and Kannika, emphasizing the severity of contamination in these locations.\n",
    "\n",
    "Additionally, Tansanee, Decha, and Achara are identified as the three locations with the lowest levels of contamination, indicating relatively better water quality in these areas."
   ]
  },
  {
   "cell_type": "code",
   "execution_count": null,
   "metadata": {},
   "outputs": [],
   "source": [
    "# Filter data for water temperature\n",
    "water_temp_data = df[df['measure'] == 'Water temperature']\n",
    "\n",
    "avg_temp = water_temp_data.groupby(['location', 'year', 'month']).agg({'value': 'mean'}).reset_index()\n",
    "\n",
    "bar_chart_by_year = alt.Chart(avg_temp).mark_bar().encode(x=alt.X('year:O', title='Year'), y=alt.Y('mean(value):Q', title='Avg Water Temperature'), color=alt.Color('location:N', title='Location'), tooltip=[alt.Tooltip('year:O', title='Year'), alt.Tooltip('location:N', title='Location'), alt.Tooltip('mean(value):Q', title='Avg Temp', format='.2f')]).properties(title=\"Average Water Temperature by Year for All Locations\", width=800, height=400)\n",
    "\n",
    "bar_chart_by_month = alt.Chart(avg_temp).mark_bar().encode(x=alt.X('month:O', title='Month'), y=alt.Y('mean(value):Q', title='Avg Water Temperature'), color=alt.Color('location:N', title='Location'), tooltip=[alt.Tooltip('month:O', title='Month'), alt.Tooltip('location:N', title='Location'), alt.Tooltip('mean(value):Q', title='Avg Temp', format='.2f')]).properties(title=\"Average Water Temperature by Month for All Locations\", width=800, height=400)\n",
    "\n",
    "combined_chart = bar_chart_by_year & bar_chart_by_month\n",
    "combined_chart\n"
   ]
  },
  {
   "cell_type": "markdown",
   "metadata": {},
   "source": [
    "##### Key Insights\n",
    "\n",
    "Year-Based:\n",
    "Water temperature begins to rise significantly from 2009 and remains consistently high through 2016, indicating a long-term upward trend during this period.\n",
    "\n",
    "Month-Based:\n",
    "Water temperature follows a bell-curve pattern, starting to rise in April, peaking in July, and then showing a downward trend from August onwards. This creates a near-perfect bell curve, reflecting seasonal variations.\n"
   ]
  },
  {
   "cell_type": "code",
   "execution_count": null,
   "metadata": {},
   "outputs": [],
   "source": [
    "# Filter data for \"Dissolved Oxygen\" and \"Water Temperature\"\n",
    "filtered_data_oxy = df[df['measure'] == 'Dissolved oxygen'].copy()\n",
    "filtered_data_temp = df[df['measure'] == 'Water temperature'].copy()\n",
    "\n",
    "merged_data = pd.merge(filtered_data_oxy[['sample date', 'location', 'value']], filtered_data_temp[['sample date', 'location', 'value']], on=['sample date', 'location'], suffixes=('_oxy', '_temp'))\n",
    "\n",
    "# Create the scatter plot\n",
    "scatter = alt.Chart(merged_data).mark_circle(color='orange', opacity=0.6).encode(x=alt.X('value_temp:Q', title='Water Temperature (°C)'), y=alt.Y('value_oxy:Q', title='Dissolved Oxygen (mg/L)'), tooltip=[alt.Tooltip('value_temp:Q', title='Water Temperature (°C)', format='.2f'), alt.Tooltip('value_oxy:Q', title='Dissolved Oxygen (mg/L)', format='.2f'), alt.Tooltip('location:N', title='Location'), alt.Tooltip('sample date:T', title='Sample Date')]).properties(title=\"Correlation between Dissolved Oxygen and Water Temperature\", height=400, width=500)\n",
    "\n",
    "trend_line = scatter.transform_regression('value_temp', 'value_oxy', method=\"linear\").mark_line(color='gray')\n",
    "\n",
    "combined_chart = scatter + trend_line\n",
    "combined_chart"
   ]
  },
  {
   "cell_type": "markdown",
   "metadata": {},
   "source": [
    "##### Key Insights\n",
    "\n",
    "Above chart highlights a strong negative correlation between water temperature and dissolved oxygen levels."
   ]
  },
  {
   "cell_type": "code",
   "execution_count": null,
   "metadata": {},
   "outputs": [],
   "source": [
    "# Define the outlier detection function\n",
    "def findOutliers(group):\n",
    "    for measure in group['measure'].unique():\n",
    "        measure_data = group[group['measure'] == measure]\n",
    "        Q1 = measure_data['value'].quantile(0.25)\n",
    "        Q3 = measure_data['value'].quantile(0.75)\n",
    "        IQR = Q3 - Q1\n",
    "        lower_bound = Q1 - (1.5 * IQR)\n",
    "        upper_bound = Q3 + (1.5 * IQR)\n",
    "        \n",
    "        outlier_condition = (measure_data['value'] < lower_bound) | (measure_data['value'] > upper_bound)\n",
    "        group.loc[measure_data.index, 'Outlier_Flag'] = outlier_condition\n",
    "    return group\n",
    "\n",
    "df['Outlier_Flag'] = False\n",
    "outlier_df = df.groupby('location').apply(findOutliers)\n",
    "outlier_df = outlier_df.drop(columns=['location']).reset_index()\n",
    "\n",
    "measures = ['Nickel', 'Lead', 'Chromium', 'Copper', 'Manganese', 'Iron']\n",
    "filtered_data = outlier_df[outlier_df['measure'].isin(measures)]\n",
    "\n",
    "# Create radio button for location selection\n",
    "location_selection = alt.selection_point(fields=['location'], bind=alt.binding_radio(options=filtered_data['location'].unique().tolist(), name='Select Location'))\n",
    "\n",
    "# Base scatter plot\n",
    "base = alt.Chart().mark_point().encode(x=alt.X('sample date:T', title='Sample Date'), y=alt.Y('value:Q', title='Value'), color=alt.Color('Outlier_Flag:N', title='Outlier', scale=alt.Scale(domain=[True, False], range=['red', 'steelblue'])), tooltip=[alt.Tooltip('sample date:T', title='Date'), alt.Tooltip('Outlier_Flag:N', title='Outlier'), alt.Tooltip('value:Q', title='Value')]).properties(width=250, height=250).add_params(location_selection).transform_filter(location_selection)\n",
    "\n",
    "\n",
    "# Generate individual scatter plots for each measure\n",
    "rows = []\n",
    "for i in range(0, len(measures), 3):\n",
    "    row = alt.hconcat(\n",
    "        *[base.transform_filter(alt.datum.measure == measure).properties(title=measure) for measure in measures[i:i+3]]\n",
    "    )\n",
    "    rows.append(row)\n",
    "\n",
    "outlier_chart = alt.vconcat(*rows, data=filtered_data).resolve_scale(x='independent', y='independent').properties(title=\"Outliers Scatter Plot for Selected Measures\")\n",
    "\n",
    "# Display the visualization\n",
    "outlier_chart"
   ]
  },
  {
   "cell_type": "markdown",
   "metadata": {},
   "source": [
    "##### Key Insights\n",
    "\n",
    "The multi-scatter chart provides better visualization of outliers for the top 6 chemical components across various waterways (locations). Waterways are selectable using radio buttons.\n",
    "\n",
    "Locations Sakda, Kannika, Chai, and Boonsri exhibit higher concentrations of outliers, indicating more significant contamination levels for the selected chemical components in these waterways."
   ]
  }
 ],
 "metadata": {
  "kernelspec": {
   "display_name": "Python 3",
   "language": "python",
   "name": "python3"
  },
  "language_info": {
   "codemirror_mode": {
    "name": "ipython",
    "version": 3
   },
   "file_extension": ".py",
   "mimetype": "text/x-python",
   "name": "python",
   "nbconvert_exporter": "python",
   "pygments_lexer": "ipython3",
   "version": "3.9.6"
  }
 },
 "nbformat": 4,
 "nbformat_minor": 2
}
